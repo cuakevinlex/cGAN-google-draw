{
 "cells": [
  {
   "cell_type": "code",
   "execution_count": null,
   "metadata": {
    "id": "ndwPuQovPK9F"
   },
   "outputs": [],
   "source": [
    "%matplotlib inline"
   ]
  },
  {
   "cell_type": "markdown",
   "metadata": {
    "id": "wB95HkIlPK9K"
   },
   "source": [
    "\n",
    "DCGAN Tutorial\n",
    "==============\n",
    "\n",
    "**Author**: `Nathan Inkawhich <https://github.com/inkawhich>`__\n",
    "\n",
    "\n"
   ]
  },
  {
   "cell_type": "markdown",
   "metadata": {
    "id": "M028mkghPK9L"
   },
   "source": [
    "Introduction\n",
    "------------\n",
    "\n",
    "This tutorial will give an introduction to DCGANs through an example. We\n",
    "will train a generative adversarial network (GAN) to generate new\n",
    "celebrities after showing it pictures of many real celebrities. Most of\n",
    "the code here is from the dcgan implementation in\n",
    "`pytorch/examples <https://github.com/pytorch/examples>`__, and this\n",
    "document will give a thorough explanation of the implementation and shed\n",
    "light on how and why this model works. But don’t worry, no prior\n",
    "knowledge of GANs is required, but it may require a first-timer to spend\n",
    "some time reasoning about what is actually happening under the hood.\n",
    "Also, for the sake of time it will help to have a GPU, or two. Lets\n",
    "start from the beginning.\n",
    "\n",
    "Generative Adversarial Networks\n",
    "-------------------------------\n",
    "\n",
    "What is a GAN?\n",
    "~~~~~~~~~~~~~~\n",
    "\n",
    "GANs are a framework for teaching a DL model to capture the training\n",
    "data’s distribution so we can generate new data from that same\n",
    "distribution. GANs were invented by Ian Goodfellow in 2014 and first\n",
    "described in the paper `Generative Adversarial\n",
    "Nets <https://papers.nips.cc/paper/5423-generative-adversarial-nets.pdf>`__.\n",
    "They are made of two distinct models, a *generator* and a\n",
    "*discriminator*. The job of the generator is to spawn ‘fake’ images that\n",
    "look like the training images. The job of the discriminator is to look\n",
    "at an image and output whether or not it is a real training image or a\n",
    "fake image from the generator. During training, the generator is\n",
    "constantly trying to outsmart the discriminator by generating better and\n",
    "better fakes, while the discriminator is working to become a better\n",
    "detective and correctly classify the real and fake images. The\n",
    "equilibrium of this game is when the generator is generating perfect\n",
    "fakes that look as if they came directly from the training data, and the\n",
    "discriminator is left to always guess at 50% confidence that the\n",
    "generator output is real or fake.\n",
    "\n",
    "Now, lets define some notation to be used throughout tutorial starting\n",
    "with the discriminator. Let $x$ be data representing an image.\n",
    "$D(x)$ is the discriminator network which outputs the (scalar)\n",
    "probability that $x$ came from training data rather than the\n",
    "generator. Here, since we are dealing with images the input to\n",
    "$D(x)$ is an image of CHW size 3x64x64. Intuitively, $D(x)$\n",
    "should be HIGH when $x$ comes from training data and LOW when\n",
    "$x$ comes from the generator. $D(x)$ can also be thought of\n",
    "as a traditional binary classifier.\n",
    "\n",
    "For the generator’s notation, let $z$ be a latent space vector\n",
    "sampled from a standard normal distribution. $G(z)$ represents the\n",
    "generator function which maps the latent vector $z$ to data-space.\n",
    "The goal of $G$ is to estimate the distribution that the training\n",
    "data comes from ($p_{data}$) so it can generate fake samples from\n",
    "that estimated distribution ($p_g$).\n",
    "\n",
    "So, $D(G(z))$ is the probability (scalar) that the output of the\n",
    "generator $G$ is a real image. As described in `Goodfellow’s\n",
    "paper <https://papers.nips.cc/paper/5423-generative-adversarial-nets.pdf>`__,\n",
    "$D$ and $G$ play a minimax game in which $D$ tries to\n",
    "maximize the probability it correctly classifies reals and fakes\n",
    "($logD(x)$), and $G$ tries to minimize the probability that\n",
    "$D$ will predict its outputs are fake ($log(1-D(G(x)))$).\n",
    "From the paper, the GAN loss function is\n",
    "\n",
    "\\begin{align}\\underset{G}{\\text{min}} \\underset{D}{\\text{max}}V(D,G) = \\mathbb{E}_{x\\sim p_{data}(x)}\\big[logD(x)\\big] + \\mathbb{E}_{z\\sim p_{z}(z)}\\big[log(1-D(G(z)))\\big]\\end{align}\n",
    "\n",
    "In theory, the solution to this minimax game is where\n",
    "$p_g = p_{data}$, and the discriminator guesses randomly if the\n",
    "inputs are real or fake. However, the convergence theory of GANs is\n",
    "still being actively researched and in reality models do not always\n",
    "train to this point.\n",
    "\n",
    "What is a DCGAN?\n",
    "~~~~~~~~~~~~~~~~\n",
    "\n",
    "A DCGAN is a direct extension of the GAN described above, except that it\n",
    "explicitly uses convolutional and convolutional-transpose layers in the\n",
    "discriminator and generator, respectively. It was first described by\n",
    "Radford et. al. in the paper `Unsupervised Representation Learning With\n",
    "Deep Convolutional Generative Adversarial\n",
    "Networks <https://arxiv.org/pdf/1511.06434.pdf>`__. The discriminator\n",
    "is made up of strided\n",
    "`convolution <https://pytorch.org/docs/stable/nn.html#torch.nn.Conv2d>`__\n",
    "layers, `batch\n",
    "norm <https://pytorch.org/docs/stable/nn.html#torch.nn.BatchNorm2d>`__\n",
    "layers, and\n",
    "`LeakyReLU <https://pytorch.org/docs/stable/nn.html#torch.nn.LeakyReLU>`__\n",
    "activations. The input is a 3x64x64 input image and the output is a\n",
    "scalar probability that the input is from the real data distribution.\n",
    "The generator is comprised of\n",
    "`convolutional-transpose <https://pytorch.org/docs/stable/nn.html#torch.nn.ConvTranspose2d>`__\n",
    "layers, batch norm layers, and\n",
    "`ReLU <https://pytorch.org/docs/stable/nn.html#relu>`__ activations. The\n",
    "input is a latent vector, $z$, that is drawn from a standard\n",
    "normal distribution and the output is a 3x64x64 RGB image. The strided\n",
    "conv-transpose layers allow the latent vector to be transformed into a\n",
    "volume with the same shape as an image. In the paper, the authors also\n",
    "give some tips about how to setup the optimizers, how to calculate the\n",
    "loss functions, and how to initialize the model weights, all of which\n",
    "will be explained in the coming sections.\n",
    "\n",
    "\n"
   ]
  },
  {
   "cell_type": "code",
   "execution_count": null,
   "metadata": {
    "colab": {
     "base_uri": "https://localhost:8080/"
    },
    "id": "1rFKmbxCPK9M",
    "outputId": "8eaa9fd2-47fd-42bc-9882-b7169d665dd7"
   },
   "outputs": [],
   "source": [
    "from __future__ import print_function\n",
    "#%matplotlib inline\n",
    "from PIL import Image, ImageDraw, ImageOps\n",
    "import ast\n",
    "import pandas as pd \n",
    "from torch.autograd import Variable\n",
    "import argparse\n",
    "import os\n",
    "import random\n",
    "import torch\n",
    "import torch.nn as nn\n",
    "import torch.nn.parallel\n",
    "import torch.backends.cudnn as cudnn\n",
    "import torch.optim as optim\n",
    "import torch.utils.data\n",
    "import torchvision.datasets as dset\n",
    "import torchvision.transforms as transforms\n",
    "import torchvision.utils as vutils\n",
    "import numpy as np\n",
    "import matplotlib.pyplot as plt\n",
    "import matplotlib.animation as animation\n",
    "from IPython.display import HTML\n",
    "\n",
    "# Set random seed for reproducibility\n",
    "manualSeed = 999\n",
    "#manualSeed = random.randint(1, 10000) # use if you want new results\n",
    "print(\"Random Seed: \", manualSeed)\n",
    "random.seed(manualSeed)\n",
    "torch.manual_seed(manualSeed)"
   ]
  },
  {
   "cell_type": "code",
   "execution_count": null,
   "metadata": {
    "id": "vOwxsKPmXWwI"
   },
   "outputs": [],
   "source": [
    "# define 30 classes to load the data for\n",
    "categories = ['airplane','bee', 'bicycle', 'bird', 'butterfly','cake','camera','cat',\n",
    "              'chair','clock','computer', 'diamond', 'door', 'ear', 'guitar', \n",
    "              'hamburger','hammer','hand','hat','ladder','leaf','lion','pencil',\n",
    "              'rabbit','scissors','shoe','star','sword','The_Eiffel_Tower','tree']\n",
    "label_dict = {0:'airplane',1:'bee', 2:'bicycle', 3:'bird', 4:'butterfly',5:'cake',6:'camera',7:'cat',\n",
    "              8:'chair',9:'clock',10:'computer', 11:'diamond', 12:'door', 13:'ear', 14:'guitar', \n",
    "              15:'hamburger',16:'hammer',17:'hand',18:'hat',19:'ladder',20:'leaf',21:'lion',22:'pencil',\n",
    "              23:'rabbit',24:'scissors',25:'shoe',26:'star',27:'sword',28:'The_Eiffel_Tower',29:'tree'}\n",
    "inverse_label =  {v: k for k, v in label_dict.items()}\n",
    "# load data for each category\n",
    "classes = {}\n",
    "for category in categories:\n",
    "    data = pd.read_csv(\"input/\" + category + \".csv\")\n",
    "    classes[category] = data"
   ]
  },
  {
   "cell_type": "code",
   "execution_count": null,
   "metadata": {
    "id": "K5werB7oXW1Z"
   },
   "outputs": [],
   "source": [
    "def convert_to_np_raw(drawing, width = 64, height = 64):\n",
    "    \"\"\"\n",
    "    INPUT:\n",
    "        drawing - drawing in initial format\n",
    "        width - width of the initial image\n",
    "        height - height of the initial image\n",
    "    OUTPUT:\n",
    "        img - drawing converted to the numpy array (width X height)\n",
    "    \"\"\"\n",
    "    # initialize empty numpy array\n",
    "    img = np.zeros((width, height))\n",
    "\n",
    "    # create a PIL image out of drawing\n",
    "    pil_img = convert_to_PIL(drawing)\n",
    "\n",
    "    #resize to 28,28\n",
    "    pil_img.thumbnail((width, height), Image.ANTIALIAS)\n",
    "\n",
    "    pil_img = pil_img.convert('RGB')\n",
    "    pixels = pil_img.load()\n",
    "\n",
    "    # fill in numpy array with pixel values\n",
    "    for i in range(0, width):\n",
    "        for j in range(0, height):\n",
    "            img[i, j] = 1 - pixels[j, i][0] / 255\n",
    "\n",
    "    return img\n",
    "def convert_to_PIL(drawing, width = 256, height = 256):\n",
    "    \"\"\"\n",
    "    Function to convert from drawing to PIL image.\n",
    "    INPUT:\n",
    "        drawing - drawing from 'drawing' column\n",
    "        width - width of the initial image\n",
    "        height - height of the initial image\n",
    "    OUTPUT:\n",
    "        pil_img - (PIL Image) image\n",
    "    \"\"\"\n",
    "\n",
    "    # initialize empty (white) PIL image\n",
    "    pil_img = Image.new('RGB', (width, height), 'white')\n",
    "    pixels = pil_img.load()\n",
    "\n",
    "    draw = ImageDraw.Draw(pil_img)\n",
    "\n",
    "    # draw strokes as lines\n",
    "    for x,y in drawing:\n",
    "        for i in range(1, len(x)):\n",
    "            draw.line((x[i-1], y[i-1], x[i], y[i]), fill=0)\n",
    "\n",
    "    return pil_img\n",
    "    \n",
    "def view_images_grid(X_train, y_train, label, label_name):\n",
    "    \"\"\"\n",
    "    Function to plot grid with several examples of images with\n",
    "    passed label.\n",
    "    INPUT:\n",
    "        X_train - (numpy array) training dataset\n",
    "        y_train - (numpy array) labels for training dataset\n",
    "        label - (int) label for images\n",
    "        label_name - (str) name for images label\n",
    "    OUTPUT: None\n",
    "    \"\"\"\n",
    "    indices = np.where(y_train == label)\n",
    "    X = pd.DataFrame(X_train)\n",
    "\n",
    "    for label_num in range(0,50):\n",
    "        plt.subplot(5,10, label_num+1) #create subplots\n",
    "        image = X.iloc[indices[0][label_num]].as_matrix().reshape(28,28)  #reshape images\n",
    "        plt.imshow(image) #plot the data\n",
    "        plt.xticks([]) #removes numbered labels on x-axis\n",
    "        plt.yticks([]) #removes numbered labels on y-axis\n",
    "        plt.suptitle(label_name)\n",
    "\n",
    "        plt.savefig(label_name + '_grid.png')"
   ]
  },
  {
   "cell_type": "code",
   "execution_count": null,
   "metadata": {
    "id": "nIkfLN3aXW30"
   },
   "outputs": [],
   "source": [
    "# create the dictionary containing classes names as keys and images as values\n",
    "values_dict = {}\n",
    "ground_truth = {}\n",
    "for category in categories:\n",
    "    data = classes[category][:3000]\n",
    "    # values = [convert_to_np_raw(ast.literal_eval(img)).reshape(1, 784) for img in data['drawing'].values]\n",
    "    # values = [ ast.literal_eval(img) for img in data['drawing'].values ]\n",
    "    # values = [convert_to_np_raw(ast.literal_eval(img)) for img in data['drawing'].values]\n",
    "    values = []\n",
    "    y = []\n",
    "    for img in data['drawing'].values:\n",
    "      values.append(convert_to_np_raw(ast.literal_eval(img)))\n",
    "      y.append(inverse_label[category])\n",
    "    values_dict[category] = torch.tensor(values)\n",
    "    ground_truth[category] = torch.tensor(y)"
   ]
  },
  {
   "cell_type": "code",
   "execution_count": null,
   "metadata": {
    "colab": {
     "base_uri": "https://localhost:8080/",
     "height": 716
    },
    "id": "P-WYbo7TXW6h",
    "outputId": "e033e8c8-c0e0-495b-cb4e-5703132079fb"
   },
   "outputs": [],
   "source": [
    "correct_figure = plt.figure()\n",
    "correct_figure.set_size_inches(20, 10)\n",
    "for i in range(9):\n",
    "  plt.subplot(3,3,i+1)\n",
    "  plt.tight_layout()\n",
    "  npimg = values_dict['airplane'][i].numpy()\n",
    "  npimg = (npimg - np.min(npimg))/np.ptp(npimg)\n",
    "  plt.imshow(npimg)\n",
    "  # plt.imshow(np.transpose(npimg, (1, 2, 0)))\n",
    "  # plt.title(\"Predicted: {}, GT: {}\".format(classes[predicted[correct_label[i]]], classes[y_label[correct_label[i]]]))\n",
    "  plt.xticks([])\n",
    "  plt.yticks([])"
   ]
  },
  {
   "cell_type": "code",
   "execution_count": null,
   "metadata": {
    "id": "HrH-z3-QXXAy"
   },
   "outputs": [],
   "source": [
    "feature_tensor = torch.empty(0)\n",
    "target_tensor = torch.empty(0)\n",
    "for category in categories:\n",
    "   feature_tensor = torch.cat((feature_tensor, values_dict[category]),0)\n",
    "   target_tensor = torch.cat((target_tensor, ground_truth[category]),0)\n",
    "\n",
    "data_set = torch.utils.data.TensorDataset(feature_tensor, target_tensor.long())\n"
   ]
  },
  {
   "cell_type": "code",
   "execution_count": 22,
   "metadata": {
    "id": "j2Nw8SmyXnDM"
   },
   "outputs": [],
   "source": [
    "BATCH_SIZE = 32\n",
    "\n",
    "train_set, test_val = torch.utils.data.random_split(data_set, [84000, 6000])\n",
    "test_set, validation_set = torch.utils.data.random_split(test_val, [3000, 3000])\n",
    "train_loader = torch.utils.data.DataLoader(train_set, batch_size=BATCH_SIZE, shuffle=True)\n",
    "test_loader = torch.utils.data.DataLoader(test_set, batch_size=BATCH_SIZE, shuffle=False)\n",
    "val_loader = torch.utils.data.DataLoader(validation_set, batch_size=BATCH_SIZE, shuffle=False)"
   ]
  },
  {
   "cell_type": "markdown",
   "metadata": {
    "id": "fepkc6RyPK9M"
   },
   "source": [
    "Inputs\n",
    "------\n",
    "\n",
    "Let’s define some inputs for the run:\n",
    "\n",
    "-  **dataroot** - the path to the root of the dataset folder. We will\n",
    "   talk more about the dataset in the next section\n",
    "-  **workers** - the number of worker threads for loading the data with\n",
    "   the DataLoader\n",
    "-  **batch_size** - the batch size used in training. The DCGAN paper\n",
    "   uses a batch size of 128\n",
    "-  **image_size** - the spatial size of the images used for training.\n",
    "   This implementation defaults to 64x64. If another size is desired,\n",
    "   the structures of D and G must be changed. See\n",
    "   `here <https://github.com/pytorch/examples/issues/70>`__ for more\n",
    "   details\n",
    "-  **nc** - number of color channels in the input images. For color\n",
    "   images this is 3\n",
    "-  **nz** - length of latent vector\n",
    "-  **ngf** - relates to the depth of feature maps carried through the\n",
    "   generator\n",
    "-  **ndf** - sets the depth of feature maps propagated through the\n",
    "   discriminator\n",
    "-  **num_epochs** - number of training epochs to run. Training for\n",
    "   longer will probably lead to better results but will also take much\n",
    "   longer\n",
    "-  **lr** - learning rate for training. As described in the DCGAN paper,\n",
    "   this number should be 0.0002\n",
    "-  **beta1** - beta1 hyperparameter for Adam optimizers. As described in\n",
    "   paper, this number should be 0.5\n",
    "-  **ngpu** - number of GPUs available. If this is 0, code will run in\n",
    "   CPU mode. If this number is greater than 0 it will run on that number\n",
    "   of GPUs\n",
    "\n",
    "\n"
   ]
  },
  {
   "cell_type": "code",
   "execution_count": 23,
   "metadata": {
    "id": "tDmFhVo9PK9M"
   },
   "outputs": [],
   "source": [
    "# Root directory for dataset\n",
    "# dataroot = \"data/celeba\"\n",
    "\n",
    "# Number of workers for dataloader\n",
    "workers = 2\n",
    "\n",
    "# Batch size during training\n",
    "batch_size = 32\n",
    "\n",
    "# Spatial size of training images. All images will be resized to this\n",
    "#   size using a transformer.\n",
    "image_size = 64\n",
    "\n",
    "# Number of channels in the training images. For color images this is 3\n",
    "nc = 1\n",
    "\n",
    "# Size of z latent vector (i.e. size of generator input)\n",
    "nz = 100\n",
    "\n",
    "# Size of feature maps in generator\n",
    "ngf = 64\n",
    "\n",
    "# Size of feature maps in discriminator\n",
    "ndf = 64\n",
    "\n",
    "# Number of training epochs\n",
    "num_epochs = 5\n",
    "\n",
    "# Learning rate for optimizers\n",
    "lr = 0.0002\n",
    "\n",
    "# Beta1 hyperparam for Adam optimizers\n",
    "beta1 = 0.5\n",
    "\n",
    "# Number of GPUs available. Use 0 for CPU mode.\n",
    "ngpu = 1"
   ]
  },
  {
   "cell_type": "markdown",
   "metadata": {
    "id": "gQw4XIkfPK9N"
   },
   "source": [
    "Data\n",
    "----\n",
    "\n",
    "In this tutorial we will use the `Celeb-A Faces\n",
    "dataset <http://mmlab.ie.cuhk.edu.hk/projects/CelebA.html>`__ which can\n",
    "be downloaded at the linked site, or in `Google\n",
    "Drive <https://drive.google.com/drive/folders/0B7EVK8r0v71pTUZsaXdaSnZBZzg>`__.\n",
    "The dataset will download as a file named *img_align_celeba.zip*. Once\n",
    "downloaded, create a directory named *celeba* and extract the zip file\n",
    "into that directory. Then, set the *dataroot* input for this notebook to\n",
    "the *celeba* directory you just created. The resulting directory\n",
    "structure should be:\n",
    "\n",
    "::\n",
    "\n",
    "   /path/to/celeba\n",
    "       -> img_align_celeba  \n",
    "           -> 188242.jpg\n",
    "           -> 173822.jpg\n",
    "           -> 284702.jpg\n",
    "           -> 537394.jpg\n",
    "              ...\n",
    "\n",
    "This is an important step because we will be using the ImageFolder\n",
    "dataset class, which requires there to be subdirectories in the\n",
    "dataset’s root folder. Now, we can create the dataset, create the\n",
    "dataloader, set the device to run on, and finally visualize some of the\n",
    "training data.\n",
    "\n",
    "\n"
   ]
  },
  {
   "cell_type": "code",
   "execution_count": 24,
   "metadata": {
    "id": "3m7aNfmHPK9N"
   },
   "outputs": [],
   "source": [
    "# # We can use an image folder dataset the way we have it setup.\n",
    "# # Create the dataset\n",
    "# dataset = dset.ImageFolder(root=dataroot,\n",
    "#                            transform=transforms.Compose([\n",
    "#                                transforms.Resize(image_size),\n",
    "#                                transforms.CenterCrop(image_size),\n",
    "#                                transforms.ToTensor(),\n",
    "#                                transforms.Normalize((0.5, 0.5, 0.5), (0.5, 0.5, 0.5)),\n",
    "#                            ]))\n",
    "# # Create the dataloader\n",
    "# dataloader = torch.utils.data.DataLoader(dataset, batch_size=batch_size,\n",
    "#                                          shuffle=True, num_workers=workers)\n",
    "\n",
    "# # Decide which device we want to run on\n",
    "# device = torch.device(\"cuda:0\" if (torch.cuda.is_available() and ngpu > 0) else \"cpu\")\n",
    "\n",
    "# # Plot some training images\n",
    "# real_batch = next(iter(dataloader))\n",
    "# plt.figure(figsize=(8,8))\n",
    "# plt.axis(\"off\")\n",
    "# plt.title(\"Training Images\")\n",
    "# plt.imshow(np.transpose(vutils.make_grid(real_batch[0].to(device)[:64], padding=2, normalize=True).cpu(),(1,2,0)))"
   ]
  },
  {
   "cell_type": "markdown",
   "metadata": {
    "id": "JeqkquSQPK9O"
   },
   "source": [
    "Implementation\n",
    "--------------\n",
    "\n",
    "With our input parameters set and the dataset prepared, we can now get\n",
    "into the implementation. We will start with the weigth initialization\n",
    "strategy, then talk about the generator, discriminator, loss functions,\n",
    "and training loop in detail.\n",
    "\n",
    "Weight Initialization\n",
    "~~~~~~~~~~~~~~~~~~~~~\n",
    "\n",
    "From the DCGAN paper, the authors specify that all model weights shall\n",
    "be randomly initialized from a Normal distribution with mean=0,\n",
    "stdev=0.02. The ``weights_init`` function takes an initialized model as\n",
    "input and reinitializes all convolutional, convolutional-transpose, and\n",
    "batch normalization layers to meet this criteria. This function is\n",
    "applied to the models immediately after initialization.\n",
    "\n",
    "\n"
   ]
  },
  {
   "cell_type": "code",
   "execution_count": 25,
   "metadata": {
    "id": "JAh6hTjxPK9O"
   },
   "outputs": [],
   "source": [
    "# custom weights initialization called on netG and netD\n",
    "def weights_init(m):\n",
    "    classname = m.__class__.__name__\n",
    "    if classname.find('Conv') != -1:\n",
    "        nn.init.normal_(m.weight.data, 0.0, 0.02)\n",
    "    elif classname.find('BatchNorm') != -1:\n",
    "        nn.init.normal_(m.weight.data, 1.0, 0.02)\n",
    "        nn.init.constant_(m.bias.data, 0)"
   ]
  },
  {
   "cell_type": "markdown",
   "metadata": {
    "id": "3U268JRNPK9P"
   },
   "source": [
    "Generator\n",
    "~~~~~~~~~\n",
    "\n",
    "The generator, $G$, is designed to map the latent space vector\n",
    "($z$) to data-space. Since our data are images, converting\n",
    "$z$ to data-space means ultimately creating a RGB image with the\n",
    "same size as the training images (i.e. 3x64x64). In practice, this is\n",
    "accomplished through a series of strided two dimensional convolutional\n",
    "transpose layers, each paired with a 2d batch norm layer and a relu\n",
    "activation. The output of the generator is fed through a tanh function\n",
    "to return it to the input data range of $[-1,1]$. It is worth\n",
    "noting the existence of the batch norm functions after the\n",
    "conv-transpose layers, as this is a critical contribution of the DCGAN\n",
    "paper. These layers help with the flow of gradients during training. An\n",
    "image of the generator from the DCGAN paper is shown below.\n",
    "\n",
    ".. figure:: /_static/img/dcgan_generator.png\n",
    "   :alt: dcgan_generator\n",
    "\n",
    "Notice, the how the inputs we set in the input section (*nz*, *ngf*, and\n",
    "*nc*) influence the generator architecture in code. *nz* is the length\n",
    "of the z input vector, *ngf* relates to the size of the feature maps\n",
    "that are propagated through the generator, and *nc* is the number of\n",
    "channels in the output image (set to 3 for RGB images). Below is the\n",
    "code for the generator.\n",
    "\n",
    "\n"
   ]
  },
  {
   "cell_type": "code",
   "execution_count": 33,
   "metadata": {
    "id": "eqUwgHTxPK9P"
   },
   "outputs": [],
   "source": [
    "# Generator Code\n",
    "\n",
    "class Generator(nn.Module):\n",
    "    def __init__(self, ngpu):\n",
    "        super(Generator, self).__init__()\n",
    "        self.ngpu = ngpu\n",
    "        self.main = nn.Sequential(\n",
    "            # input is Z, going into a convolution\n",
    "            nn.ConvTranspose2d( nz, ngf * 8, 4, 1, 0, bias=False),\n",
    "            nn.BatchNorm2d(ngf * 8),\n",
    "            nn.ReLU(True),\n",
    "            # state size. (ngf*8) x 4 x 4\n",
    "            nn.ConvTranspose2d(ngf * 8, ngf * 4, 4, 2, 1, bias=False),\n",
    "            nn.BatchNorm2d(ngf * 4),\n",
    "            nn.ReLU(True),\n",
    "            # state size. (ngf*4) x 8 x 8\n",
    "            nn.ConvTranspose2d( ngf * 4, ngf * 2, 4, 2, 1, bias=False),\n",
    "            nn.BatchNorm2d(ngf * 2),\n",
    "            nn.ReLU(True),\n",
    "            # state size. (ngf*2) x 16 x 16\n",
    "            nn.ConvTranspose2d( ngf * 2, ngf, 4, 2, 1, bias=False),\n",
    "            nn.BatchNorm2d(ngf),\n",
    "            nn.ReLU(True),\n",
    "            # state size. (ngf) x 32 x 32\n",
    "            nn.ConvTranspose2d( ngf, nc, 4, 2, 1, bias=False),\n",
    "            nn.Tanh()\n",
    "            # state size. (nc) x 64 x 64\n",
    "        )\n",
    "\n",
    "    def forward(self, input):\n",
    "        return self.main(input)"
   ]
  },
  {
   "cell_type": "markdown",
   "metadata": {
    "id": "VOQKlcz7PK9P"
   },
   "source": [
    "Now, we can instantiate the generator and apply the ``weights_init``\n",
    "function. Check out the printed model to see how the generator object is\n",
    "structured.\n",
    "\n",
    "\n"
   ]
  },
  {
   "cell_type": "code",
   "execution_count": 37,
   "metadata": {
    "colab": {
     "base_uri": "https://localhost:8080/",
     "height": 845
    },
    "id": "j55msNYsPK9P",
    "outputId": "8e49c83c-d2ab-4d14-9cee-039be578880b"
   },
   "outputs": [
    {
     "ename": "RuntimeError",
     "evalue": "ignored",
     "output_type": "error",
     "traceback": [
      "\u001b[0;31m---------------------------------------------------------------------------\u001b[0m",
      "\u001b[0;31mRuntimeError\u001b[0m                              Traceback (most recent call last)",
      "\u001b[0;32m<ipython-input-37-f6dfc8229e53>\u001b[0m in \u001b[0;36m<module>\u001b[0;34m\u001b[0m\n\u001b[1;32m      1\u001b[0m \u001b[0;31m# Create the generator\u001b[0m\u001b[0;34m\u001b[0m\u001b[0;34m\u001b[0m\u001b[0;34m\u001b[0m\u001b[0m\n\u001b[1;32m      2\u001b[0m \u001b[0mdevice\u001b[0m \u001b[0;34m=\u001b[0m \u001b[0mtorch\u001b[0m\u001b[0;34m.\u001b[0m\u001b[0mdevice\u001b[0m\u001b[0;34m(\u001b[0m\u001b[0;34m\"cuda:0\"\u001b[0m \u001b[0;32mif\u001b[0m \u001b[0;34m(\u001b[0m\u001b[0mtorch\u001b[0m\u001b[0;34m.\u001b[0m\u001b[0mcuda\u001b[0m\u001b[0;34m.\u001b[0m\u001b[0mis_available\u001b[0m\u001b[0;34m(\u001b[0m\u001b[0;34m)\u001b[0m \u001b[0;32mand\u001b[0m \u001b[0mngpu\u001b[0m \u001b[0;34m>\u001b[0m \u001b[0;36m0\u001b[0m\u001b[0;34m)\u001b[0m \u001b[0;32melse\u001b[0m \u001b[0;34m\"cpu\"\u001b[0m\u001b[0;34m)\u001b[0m\u001b[0;34m\u001b[0m\u001b[0;34m\u001b[0m\u001b[0m\n\u001b[0;32m----> 3\u001b[0;31m \u001b[0mnetG\u001b[0m \u001b[0;34m=\u001b[0m \u001b[0mGenerator\u001b[0m\u001b[0;34m(\u001b[0m\u001b[0mngpu\u001b[0m\u001b[0;34m)\u001b[0m\u001b[0;34m.\u001b[0m\u001b[0mto\u001b[0m\u001b[0;34m(\u001b[0m\u001b[0mdevice\u001b[0m\u001b[0;34m)\u001b[0m\u001b[0;34m\u001b[0m\u001b[0;34m\u001b[0m\u001b[0m\n\u001b[0m\u001b[1;32m      4\u001b[0m \u001b[0;34m\u001b[0m\u001b[0m\n\u001b[1;32m      5\u001b[0m \u001b[0;31m# Handle multi-gpu if desired\u001b[0m\u001b[0;34m\u001b[0m\u001b[0;34m\u001b[0m\u001b[0;34m\u001b[0m\u001b[0m\n",
      "\u001b[0;32m~/miniconda3/lib/python3.8/site-packages/torch/nn/modules/module.py\u001b[0m in \u001b[0;36mto\u001b[0;34m(self, *args, **kwargs)\u001b[0m\n\u001b[1;32m    610\u001b[0m             \u001b[0;32mreturn\u001b[0m \u001b[0mt\u001b[0m\u001b[0;34m.\u001b[0m\u001b[0mto\u001b[0m\u001b[0;34m(\u001b[0m\u001b[0mdevice\u001b[0m\u001b[0;34m,\u001b[0m \u001b[0mdtype\u001b[0m \u001b[0;32mif\u001b[0m \u001b[0mt\u001b[0m\u001b[0;34m.\u001b[0m\u001b[0mis_floating_point\u001b[0m\u001b[0;34m(\u001b[0m\u001b[0;34m)\u001b[0m \u001b[0;32melse\u001b[0m \u001b[0;32mNone\u001b[0m\u001b[0;34m,\u001b[0m \u001b[0mnon_blocking\u001b[0m\u001b[0;34m)\u001b[0m\u001b[0;34m\u001b[0m\u001b[0;34m\u001b[0m\u001b[0m\n\u001b[1;32m    611\u001b[0m \u001b[0;34m\u001b[0m\u001b[0m\n\u001b[0;32m--> 612\u001b[0;31m         \u001b[0;32mreturn\u001b[0m \u001b[0mself\u001b[0m\u001b[0;34m.\u001b[0m\u001b[0m_apply\u001b[0m\u001b[0;34m(\u001b[0m\u001b[0mconvert\u001b[0m\u001b[0;34m)\u001b[0m\u001b[0;34m\u001b[0m\u001b[0;34m\u001b[0m\u001b[0m\n\u001b[0m\u001b[1;32m    613\u001b[0m \u001b[0;34m\u001b[0m\u001b[0m\n\u001b[1;32m    614\u001b[0m     def register_backward_hook(\n",
      "\u001b[0;32m~/miniconda3/lib/python3.8/site-packages/torch/nn/modules/module.py\u001b[0m in \u001b[0;36m_apply\u001b[0;34m(self, fn)\u001b[0m\n\u001b[1;32m    357\u001b[0m     \u001b[0;32mdef\u001b[0m \u001b[0m_apply\u001b[0m\u001b[0;34m(\u001b[0m\u001b[0mself\u001b[0m\u001b[0;34m,\u001b[0m \u001b[0mfn\u001b[0m\u001b[0;34m)\u001b[0m\u001b[0;34m:\u001b[0m\u001b[0;34m\u001b[0m\u001b[0;34m\u001b[0m\u001b[0m\n\u001b[1;32m    358\u001b[0m         \u001b[0;32mfor\u001b[0m \u001b[0mmodule\u001b[0m \u001b[0;32min\u001b[0m \u001b[0mself\u001b[0m\u001b[0;34m.\u001b[0m\u001b[0mchildren\u001b[0m\u001b[0;34m(\u001b[0m\u001b[0;34m)\u001b[0m\u001b[0;34m:\u001b[0m\u001b[0;34m\u001b[0m\u001b[0;34m\u001b[0m\u001b[0m\n\u001b[0;32m--> 359\u001b[0;31m             \u001b[0mmodule\u001b[0m\u001b[0;34m.\u001b[0m\u001b[0m_apply\u001b[0m\u001b[0;34m(\u001b[0m\u001b[0mfn\u001b[0m\u001b[0;34m)\u001b[0m\u001b[0;34m\u001b[0m\u001b[0;34m\u001b[0m\u001b[0m\n\u001b[0m\u001b[1;32m    360\u001b[0m \u001b[0;34m\u001b[0m\u001b[0m\n\u001b[1;32m    361\u001b[0m         \u001b[0;32mdef\u001b[0m \u001b[0mcompute_should_use_set_data\u001b[0m\u001b[0;34m(\u001b[0m\u001b[0mtensor\u001b[0m\u001b[0;34m,\u001b[0m \u001b[0mtensor_applied\u001b[0m\u001b[0;34m)\u001b[0m\u001b[0;34m:\u001b[0m\u001b[0;34m\u001b[0m\u001b[0;34m\u001b[0m\u001b[0m\n",
      "\u001b[0;32m~/miniconda3/lib/python3.8/site-packages/torch/nn/modules/module.py\u001b[0m in \u001b[0;36m_apply\u001b[0;34m(self, fn)\u001b[0m\n\u001b[1;32m    357\u001b[0m     \u001b[0;32mdef\u001b[0m \u001b[0m_apply\u001b[0m\u001b[0;34m(\u001b[0m\u001b[0mself\u001b[0m\u001b[0;34m,\u001b[0m \u001b[0mfn\u001b[0m\u001b[0;34m)\u001b[0m\u001b[0;34m:\u001b[0m\u001b[0;34m\u001b[0m\u001b[0;34m\u001b[0m\u001b[0m\n\u001b[1;32m    358\u001b[0m         \u001b[0;32mfor\u001b[0m \u001b[0mmodule\u001b[0m \u001b[0;32min\u001b[0m \u001b[0mself\u001b[0m\u001b[0;34m.\u001b[0m\u001b[0mchildren\u001b[0m\u001b[0;34m(\u001b[0m\u001b[0;34m)\u001b[0m\u001b[0;34m:\u001b[0m\u001b[0;34m\u001b[0m\u001b[0;34m\u001b[0m\u001b[0m\n\u001b[0;32m--> 359\u001b[0;31m             \u001b[0mmodule\u001b[0m\u001b[0;34m.\u001b[0m\u001b[0m_apply\u001b[0m\u001b[0;34m(\u001b[0m\u001b[0mfn\u001b[0m\u001b[0;34m)\u001b[0m\u001b[0;34m\u001b[0m\u001b[0;34m\u001b[0m\u001b[0m\n\u001b[0m\u001b[1;32m    360\u001b[0m \u001b[0;34m\u001b[0m\u001b[0m\n\u001b[1;32m    361\u001b[0m         \u001b[0;32mdef\u001b[0m \u001b[0mcompute_should_use_set_data\u001b[0m\u001b[0;34m(\u001b[0m\u001b[0mtensor\u001b[0m\u001b[0;34m,\u001b[0m \u001b[0mtensor_applied\u001b[0m\u001b[0;34m)\u001b[0m\u001b[0;34m:\u001b[0m\u001b[0;34m\u001b[0m\u001b[0;34m\u001b[0m\u001b[0m\n",
      "\u001b[0;32m~/miniconda3/lib/python3.8/site-packages/torch/nn/modules/module.py\u001b[0m in \u001b[0;36m_apply\u001b[0;34m(self, fn)\u001b[0m\n\u001b[1;32m    379\u001b[0m                 \u001b[0;31m# `with torch.no_grad():`\u001b[0m\u001b[0;34m\u001b[0m\u001b[0;34m\u001b[0m\u001b[0;34m\u001b[0m\u001b[0m\n\u001b[1;32m    380\u001b[0m                 \u001b[0;32mwith\u001b[0m \u001b[0mtorch\u001b[0m\u001b[0;34m.\u001b[0m\u001b[0mno_grad\u001b[0m\u001b[0;34m(\u001b[0m\u001b[0;34m)\u001b[0m\u001b[0;34m:\u001b[0m\u001b[0;34m\u001b[0m\u001b[0;34m\u001b[0m\u001b[0m\n\u001b[0;32m--> 381\u001b[0;31m                     \u001b[0mparam_applied\u001b[0m \u001b[0;34m=\u001b[0m \u001b[0mfn\u001b[0m\u001b[0;34m(\u001b[0m\u001b[0mparam\u001b[0m\u001b[0;34m)\u001b[0m\u001b[0;34m\u001b[0m\u001b[0;34m\u001b[0m\u001b[0m\n\u001b[0m\u001b[1;32m    382\u001b[0m                 \u001b[0mshould_use_set_data\u001b[0m \u001b[0;34m=\u001b[0m \u001b[0mcompute_should_use_set_data\u001b[0m\u001b[0;34m(\u001b[0m\u001b[0mparam\u001b[0m\u001b[0;34m,\u001b[0m \u001b[0mparam_applied\u001b[0m\u001b[0;34m)\u001b[0m\u001b[0;34m\u001b[0m\u001b[0;34m\u001b[0m\u001b[0m\n\u001b[1;32m    383\u001b[0m                 \u001b[0;32mif\u001b[0m \u001b[0mshould_use_set_data\u001b[0m\u001b[0;34m:\u001b[0m\u001b[0;34m\u001b[0m\u001b[0;34m\u001b[0m\u001b[0m\n",
      "\u001b[0;32m~/miniconda3/lib/python3.8/site-packages/torch/nn/modules/module.py\u001b[0m in \u001b[0;36mconvert\u001b[0;34m(t)\u001b[0m\n\u001b[1;32m    608\u001b[0m             \u001b[0;32mif\u001b[0m \u001b[0mconvert_to_format\u001b[0m \u001b[0;32mis\u001b[0m \u001b[0;32mnot\u001b[0m \u001b[0;32mNone\u001b[0m \u001b[0;32mand\u001b[0m \u001b[0mt\u001b[0m\u001b[0;34m.\u001b[0m\u001b[0mdim\u001b[0m\u001b[0;34m(\u001b[0m\u001b[0;34m)\u001b[0m \u001b[0;34m==\u001b[0m \u001b[0;36m4\u001b[0m\u001b[0;34m:\u001b[0m\u001b[0;34m\u001b[0m\u001b[0;34m\u001b[0m\u001b[0m\n\u001b[1;32m    609\u001b[0m                 \u001b[0;32mreturn\u001b[0m \u001b[0mt\u001b[0m\u001b[0;34m.\u001b[0m\u001b[0mto\u001b[0m\u001b[0;34m(\u001b[0m\u001b[0mdevice\u001b[0m\u001b[0;34m,\u001b[0m \u001b[0mdtype\u001b[0m \u001b[0;32mif\u001b[0m \u001b[0mt\u001b[0m\u001b[0;34m.\u001b[0m\u001b[0mis_floating_point\u001b[0m\u001b[0;34m(\u001b[0m\u001b[0;34m)\u001b[0m \u001b[0;32melse\u001b[0m \u001b[0;32mNone\u001b[0m\u001b[0;34m,\u001b[0m \u001b[0mnon_blocking\u001b[0m\u001b[0;34m,\u001b[0m \u001b[0mmemory_format\u001b[0m\u001b[0;34m=\u001b[0m\u001b[0mconvert_to_format\u001b[0m\u001b[0;34m)\u001b[0m\u001b[0;34m\u001b[0m\u001b[0;34m\u001b[0m\u001b[0m\n\u001b[0;32m--> 610\u001b[0;31m             \u001b[0;32mreturn\u001b[0m \u001b[0mt\u001b[0m\u001b[0;34m.\u001b[0m\u001b[0mto\u001b[0m\u001b[0;34m(\u001b[0m\u001b[0mdevice\u001b[0m\u001b[0;34m,\u001b[0m \u001b[0mdtype\u001b[0m \u001b[0;32mif\u001b[0m \u001b[0mt\u001b[0m\u001b[0;34m.\u001b[0m\u001b[0mis_floating_point\u001b[0m\u001b[0;34m(\u001b[0m\u001b[0;34m)\u001b[0m \u001b[0;32melse\u001b[0m \u001b[0;32mNone\u001b[0m\u001b[0;34m,\u001b[0m \u001b[0mnon_blocking\u001b[0m\u001b[0;34m)\u001b[0m\u001b[0;34m\u001b[0m\u001b[0;34m\u001b[0m\u001b[0m\n\u001b[0m\u001b[1;32m    611\u001b[0m \u001b[0;34m\u001b[0m\u001b[0m\n\u001b[1;32m    612\u001b[0m         \u001b[0;32mreturn\u001b[0m \u001b[0mself\u001b[0m\u001b[0;34m.\u001b[0m\u001b[0m_apply\u001b[0m\u001b[0;34m(\u001b[0m\u001b[0mconvert\u001b[0m\u001b[0;34m)\u001b[0m\u001b[0;34m\u001b[0m\u001b[0;34m\u001b[0m\u001b[0m\n",
      "\u001b[0;31mRuntimeError\u001b[0m: CUDA error: an illegal memory access was encountered"
     ]
    }
   ],
   "source": [
    "# Create the generator\n",
    "device = torch.device(\"cuda:0\" if (torch.cuda.is_available() and ngpu > 0) else \"cpu\")\n",
    "netG = Generator(ngpu).to(device)\n",
    "\n",
    "# Handle multi-gpu if desired\n",
    "if (device.type == 'cuda') and (ngpu > 1):\n",
    "    netG = nn.DataParallel(netG, list(range(ngpu)))\n",
    "\n",
    "# Apply the weights_init function to randomly initialize all weights\n",
    "#  to mean=0, stdev=0.2.\n",
    "netG.apply(weights_init)\n",
    "\n",
    "# Print the model\n",
    "print(netG)"
   ]
  },
  {
   "cell_type": "markdown",
   "metadata": {
    "id": "dI7sg7ECPK9P"
   },
   "source": [
    "Discriminator\n",
    "~~~~~~~~~~~~~\n",
    "\n",
    "As mentioned, the discriminator, $D$, is a binary classification\n",
    "network that takes an image as input and outputs a scalar probability\n",
    "that the input image is real (as opposed to fake). Here, $D$ takes\n",
    "a 3x64x64 input image, processes it through a series of Conv2d,\n",
    "BatchNorm2d, and LeakyReLU layers, and outputs the final probability\n",
    "through a Sigmoid activation function. This architecture can be extended\n",
    "with more layers if necessary for the problem, but there is significance\n",
    "to the use of the strided convolution, BatchNorm, and LeakyReLUs. The\n",
    "DCGAN paper mentions it is a good practice to use strided convolution\n",
    "rather than pooling to downsample because it lets the network learn its\n",
    "own pooling function. Also batch norm and leaky relu functions promote\n",
    "healthy gradient flow which is critical for the learning process of both\n",
    "$G$ and $D$.\n",
    "\n",
    "\n"
   ]
  },
  {
   "cell_type": "markdown",
   "metadata": {
    "id": "Dxdiap3xPK9Q"
   },
   "source": [
    "Discriminator Code\n",
    "\n"
   ]
  },
  {
   "cell_type": "code",
   "execution_count": null,
   "metadata": {
    "id": "p0pZE8r1PK9Q"
   },
   "outputs": [],
   "source": [
    "class Discriminator(nn.Module):\n",
    "    def __init__(self, ngpu):\n",
    "        super(Discriminator, self).__init__()\n",
    "        self.ngpu = ngpu\n",
    "        self.main = nn.Sequential(\n",
    "            # input is (nc) x 64 x 64\n",
    "            nn.Conv2d(nc, ndf, 4, 2, 1, bias=False),\n",
    "            nn.LeakyReLU(0.2, inplace=True),\n",
    "            # state size. (ndf) x 32 x 32\n",
    "            nn.Conv2d(ndf, ndf * 2, 4, 2, 1, bias=False),\n",
    "            nn.BatchNorm2d(ndf * 2),\n",
    "            nn.LeakyReLU(0.2, inplace=True),\n",
    "            # state size. (ndf*2) x 16 x 16\n",
    "            nn.Conv2d(ndf * 2, ndf * 4, 4, 2, 1, bias=False),\n",
    "            nn.BatchNorm2d(ndf * 4),\n",
    "            nn.LeakyReLU(0.2, inplace=True),\n",
    "            # state size. (ndf*4) x 8 x 8\n",
    "            nn.Conv2d(ndf * 4, ndf * 8, 4, 2, 1, bias=False),\n",
    "            nn.BatchNorm2d(ndf * 8),\n",
    "            nn.LeakyReLU(0.2, inplace=True),\n",
    "            # state size. (ndf*8) x 4 x 4\n",
    "            nn.Conv2d(ndf * 8, 1, 4, 1, 0, bias=False),\n",
    "            nn.Sigmoid()\n",
    "        )\n",
    "\n",
    "    def forward(self, input):\n",
    "        return self.main(input)"
   ]
  },
  {
   "cell_type": "markdown",
   "metadata": {
    "id": "cukXHBOtPK9Q"
   },
   "source": [
    "Now, as with the generator, we can create the discriminator, apply the\n",
    "``weights_init`` function, and print the model’s structure.\n",
    "\n",
    "\n"
   ]
  },
  {
   "cell_type": "code",
   "execution_count": null,
   "metadata": {
    "id": "QMFsATi2PK9Q"
   },
   "outputs": [],
   "source": [
    "# Create the Discriminator\n",
    "netD = Discriminator(ngpu).to(device)\n",
    "\n",
    "# Handle multi-gpu if desired\n",
    "if (device.type == 'cuda') and (ngpu > 1):\n",
    "    netD = nn.DataParallel(netD, list(range(ngpu)))\n",
    "    \n",
    "# Apply the weights_init function to randomly initialize all weights\n",
    "#  to mean=0, stdev=0.2.\n",
    "netD.apply(weights_init)\n",
    "\n",
    "# Print the model\n",
    "print(netD)"
   ]
  },
  {
   "cell_type": "markdown",
   "metadata": {
    "id": "Y9UjYcmmPK9Q"
   },
   "source": [
    "Loss Functions and Optimizers\n",
    "~~~~~~~~~~~~~~~~~~~~~~~~~~~~~\n",
    "\n",
    "With $D$ and $G$ setup, we can specify how they learn\n",
    "through the loss functions and optimizers. We will use the Binary Cross\n",
    "Entropy loss\n",
    "(`BCELoss <https://pytorch.org/docs/stable/nn.html#torch.nn.BCELoss>`__)\n",
    "function which is defined in PyTorch as:\n",
    "\n",
    "\\begin{align}\\ell(x, y) = L = \\{l_1,\\dots,l_N\\}^\\top, \\quad l_n = - \\left[ y_n \\cdot \\log x_n + (1 - y_n) \\cdot \\log (1 - x_n) \\right]\\end{align}\n",
    "\n",
    "Notice how this function provides the calculation of both log components\n",
    "in the objective function (i.e. $log(D(x))$ and\n",
    "$log(1-D(G(z)))$). We can specify what part of the BCE equation to\n",
    "use with the $y$ input. This is accomplished in the training loop\n",
    "which is coming up soon, but it is important to understand how we can\n",
    "choose which component we wish to calculate just by changing $y$\n",
    "(i.e. GT labels).\n",
    "\n",
    "Next, we define our real label as 1 and the fake label as 0. These\n",
    "labels will be used when calculating the losses of $D$ and\n",
    "$G$, and this is also the convention used in the original GAN\n",
    "paper. Finally, we set up two separate optimizers, one for $D$ and\n",
    "one for $G$. As specified in the DCGAN paper, both are Adam\n",
    "optimizers with learning rate 0.0002 and Beta1 = 0.5. For keeping track\n",
    "of the generator’s learning progression, we will generate a fixed batch\n",
    "of latent vectors that are drawn from a Gaussian distribution\n",
    "(i.e. fixed_noise) . In the training loop, we will periodically input\n",
    "this fixed_noise into $G$, and over the iterations we will see\n",
    "images form out of the noise.\n",
    "\n",
    "\n"
   ]
  },
  {
   "cell_type": "code",
   "execution_count": null,
   "metadata": {
    "id": "Xycn6pCfPK9Q"
   },
   "outputs": [],
   "source": [
    "# Initialize BCELoss function\n",
    "criterion = nn.BCELoss()\n",
    "\n",
    "# Create batch of latent vectors that we will use to visualize\n",
    "#  the progression of the generator\n",
    "fixed_noise = torch.randn(64, nz, 1, 1, device=device)\n",
    "\n",
    "# Establish convention for real and fake labels during training\n",
    "real_label = 1.\n",
    "fake_label = 0.\n",
    "\n",
    "# Setup Adam optimizers for both G and D\n",
    "optimizerD = optim.Adam(netD.parameters(), lr=lr, betas=(beta1, 0.999))\n",
    "optimizerG = optim.Adam(netG.parameters(), lr=lr, betas=(beta1, 0.999))"
   ]
  },
  {
   "cell_type": "markdown",
   "metadata": {
    "id": "tRcqX7N4PK9Q"
   },
   "source": [
    "Training\n",
    "~~~~~~~~\n",
    "\n",
    "Finally, now that we have all of the parts of the GAN framework defined,\n",
    "we can train it. Be mindful that training GANs is somewhat of an art\n",
    "form, as incorrect hyperparameter settings lead to mode collapse with\n",
    "little explanation of what went wrong. Here, we will closely follow\n",
    "Algorithm 1 from Goodfellow’s paper, while abiding by some of the best\n",
    "practices shown in `ganhacks <https://github.com/soumith/ganhacks>`__.\n",
    "Namely, we will “construct different mini-batches for real and fake”\n",
    "images, and also adjust G’s objective function to maximize\n",
    "$logD(G(z))$. Training is split up into two main parts. Part 1\n",
    "updates the Discriminator and Part 2 updates the Generator.\n",
    "\n",
    "**Part 1 - Train the Discriminator**\n",
    "\n",
    "Recall, the goal of training the discriminator is to maximize the\n",
    "probability of correctly classifying a given input as real or fake. In\n",
    "terms of Goodfellow, we wish to “update the discriminator by ascending\n",
    "its stochastic gradient”. Practically, we want to maximize\n",
    "$log(D(x)) + log(1-D(G(z)))$. Due to the separate mini-batch\n",
    "suggestion from ganhacks, we will calculate this in two steps. First, we\n",
    "will construct a batch of real samples from the training set, forward\n",
    "pass through $D$, calculate the loss ($log(D(x))$), then\n",
    "calculate the gradients in a backward pass. Secondly, we will construct\n",
    "a batch of fake samples with the current generator, forward pass this\n",
    "batch through $D$, calculate the loss ($log(1-D(G(z)))$),\n",
    "and *accumulate* the gradients with a backward pass. Now, with the\n",
    "gradients accumulated from both the all-real and all-fake batches, we\n",
    "call a step of the Discriminator’s optimizer.\n",
    "\n",
    "**Part 2 - Train the Generator**\n",
    "\n",
    "As stated in the original paper, we want to train the Generator by\n",
    "minimizing $log(1-D(G(z)))$ in an effort to generate better fakes.\n",
    "As mentioned, this was shown by Goodfellow to not provide sufficient\n",
    "gradients, especially early in the learning process. As a fix, we\n",
    "instead wish to maximize $log(D(G(z)))$. In the code we accomplish\n",
    "this by: classifying the Generator output from Part 1 with the\n",
    "Discriminator, computing G’s loss *using real labels as GT*, computing\n",
    "G’s gradients in a backward pass, and finally updating G’s parameters\n",
    "with an optimizer step. It may seem counter-intuitive to use the real\n",
    "labels as GT labels for the loss function, but this allows us to use the\n",
    "$log(x)$ part of the BCELoss (rather than the $log(1-x)$\n",
    "part) which is exactly what we want.\n",
    "\n",
    "Finally, we will do some statistic reporting and at the end of each\n",
    "epoch we will push our fixed_noise batch through the generator to\n",
    "visually track the progress of G’s training. The training statistics\n",
    "reported are:\n",
    "\n",
    "-  **Loss_D** - discriminator loss calculated as the sum of losses for\n",
    "   the all real and all fake batches ($log(D(x)) + log(D(G(z)))$).\n",
    "-  **Loss_G** - generator loss calculated as $log(D(G(z)))$\n",
    "-  **D(x)** - the average output (across the batch) of the discriminator\n",
    "   for the all real batch. This should start close to 1 then\n",
    "   theoretically converge to 0.5 when G gets better. Think about why\n",
    "   this is.\n",
    "-  **D(G(z))** - average discriminator outputs for the all fake batch.\n",
    "   The first number is before D is updated and the second number is\n",
    "   after D is updated. These numbers should start near 0 and converge to\n",
    "   0.5 as G gets better. Think about why this is.\n",
    "\n",
    "**Note:** This step might take a while, depending on how many epochs you\n",
    "run and if you removed some data from the dataset.\n",
    "\n",
    "\n"
   ]
  },
  {
   "cell_type": "code",
   "execution_count": null,
   "metadata": {
    "id": "jkFa5YntWwvP"
   },
   "outputs": [],
   "source": [
    "PATHG = \"GAN/G_weights1.pt\"\n",
    "PATHD = \"GAN/D_weights1.pt\"\n",
    "# netG.load_state_dict(torch.load(PATHG))\n",
    "# netD.load_state_dict(torch.load(PATHD))\n",
    "netG.eval()\n",
    "netD.eval()"
   ]
  },
  {
   "cell_type": "code",
   "execution_count": null,
   "metadata": {
    "id": "ALkgcuAvPK9R"
   },
   "outputs": [],
   "source": [
    "# Training Loop\n",
    "\n",
    "# Lists to keep track of progress\n",
    "img_list = []\n",
    "G_losses = []\n",
    "D_losses = []\n",
    "iters = 0\n",
    "\n",
    "print(\"Starting Training Loop...\")\n",
    "# For each epoch\n",
    "for epoch in range(num_epochs):\n",
    "    # For each batch in the dataloader\n",
    "    for i, data in enumerate(train_loader, 0):\n",
    "        \n",
    "        ############################\n",
    "        # (1) Update D network: maximize log(D(x)) + log(1 - D(G(z)))\n",
    "        ###########################\n",
    "        ## Train with all-real batch\n",
    "        netD.zero_grad()\n",
    "        # Format batch\n",
    "        real_cpu = data[0].unsqueeze(1).float().to(device)\n",
    "        b_size = real_cpu.size(0)\n",
    "        label = torch.full((b_size,), real_label, dtype=torch.float, device=device)\n",
    "        # Forward pass real batch through D\n",
    "        output = netD(real_cpu).view(-1)\n",
    "        # Calculate loss on all-real batch\n",
    "        errD_real = criterion(output, label)\n",
    "        # Calculate gradients for D in backward pass\n",
    "        errD_real.backward()\n",
    "        D_x = output.mean().item()\n",
    "\n",
    "        ## Train with all-fake batch\n",
    "        # Generate batch of latent vectors\n",
    "        noise = torch.randn(b_size, nz, 1, 1, device=device)\n",
    "        # Generate fake image batch with G\n",
    "        fake = netG(noise)\n",
    "        label.fill_(fake_label)\n",
    "        # Classify all fake batch with D\n",
    "        output = netD(fake.detach()).view(-1)\n",
    "        # Calculate D's loss on the all-fake batch\n",
    "        errD_fake = criterion(output, label)\n",
    "        # Calculate the gradients for this batch\n",
    "        errD_fake.backward()\n",
    "        D_G_z1 = output.mean().item()\n",
    "        # Add the gradients from the all-real and all-fake batches\n",
    "        errD = errD_real + errD_fake\n",
    "        # Update D\n",
    "        optimizerD.step()\n",
    "\n",
    "        ############################\n",
    "        # (2) Update G network: maximize log(D(G(z)))\n",
    "        ###########################\n",
    "        netG.zero_grad()\n",
    "        label.fill_(real_label)  # fake labels are real for generator cost\n",
    "        # Since we just updated D, perform another forward pass of all-fake batch through D\n",
    "        output = netD(fake).view(-1)\n",
    "        # Calculate G's loss based on this output\n",
    "        errG = criterion(output, label)\n",
    "        # Calculate gradients for G\n",
    "        errG.backward()\n",
    "        D_G_z2 = output.mean().item()\n",
    "        # Update G\n",
    "        optimizerG.step()\n",
    "        \n",
    "        # Output training stats\n",
    "        if i % 50 == 0:\n",
    "            print('[%d/%d][%d/%d]\\tLoss_D: %.4f\\tLoss_G: %.4f\\tD(x): %.4f\\tD(G(z)): %.4f / %.4f'\n",
    "                  % (epoch, num_epochs, i, len(train_loader),\n",
    "                     errD.item(), errG.item(), D_x, D_G_z1, D_G_z2))\n",
    "        \n",
    "        # Save Losses for plotting later\n",
    "        G_losses.append(errG.item())\n",
    "        D_losses.append(errD.item())\n",
    "        \n",
    "        # Check how the generator is doing by saving G's output on fixed_noise\n",
    "        if (iters % 500 == 0) or ((epoch == num_epochs-1) and (i == len(dataloader)-1)):\n",
    "            with torch.no_grad():\n",
    "                fake = netG(fixed_noise).detach().cpu()\n",
    "            img_list.append(vutils.make_grid(fake, padding=2, normalize=True))\n",
    "            \n",
    "        iters += 1"
   ]
  },
  {
   "cell_type": "markdown",
   "metadata": {
    "id": "PFXvg_r0PK9R"
   },
   "source": [
    "Results\n",
    "-------\n",
    "\n",
    "Finally, lets check out how we did. Here, we will look at three\n",
    "different results. First, we will see how D and G’s losses changed\n",
    "during training. Second, we will visualize G’s output on the fixed_noise\n",
    "batch for every epoch. And third, we will look at a batch of real data\n",
    "next to a batch of fake data from G.\n",
    "\n",
    "**Loss versus training iteration**\n",
    "\n",
    "Below is a plot of D & G’s losses versus training iterations.\n",
    "\n",
    "\n"
   ]
  },
  {
   "cell_type": "code",
   "execution_count": null,
   "metadata": {
    "id": "wEOjdK-0PK9R"
   },
   "outputs": [],
   "source": [
    "plt.figure(figsize=(10,5))\n",
    "plt.title(\"Generator and Discriminator Loss During Training\")\n",
    "plt.plot(G_losses,label=\"G\")\n",
    "plt.plot(D_losses,label=\"D\")\n",
    "plt.xlabel(\"iterations\")\n",
    "plt.ylabel(\"Loss\")\n",
    "plt.legend()\n",
    "plt.show()"
   ]
  },
  {
   "cell_type": "markdown",
   "metadata": {
    "id": "GWBuEjUzPK9R"
   },
   "source": [
    "**Visualization of G’s progression**\n",
    "\n",
    "Remember how we saved the generator’s output on the fixed_noise batch\n",
    "after every epoch of training. Now, we can visualize the training\n",
    "progression of G with an animation. Press the play button to start the\n",
    "animation.\n",
    "\n",
    "\n"
   ]
  },
  {
   "cell_type": "code",
   "execution_count": null,
   "metadata": {
    "id": "TpFeGVnUPK9R"
   },
   "outputs": [],
   "source": [
    "#%%capture\n",
    "fig = plt.figure(figsize=(8,8))\n",
    "plt.axis(\"off\")\n",
    "ims = [[plt.imshow(np.transpose(i,(1,2,0)), animated=True)] for i in img_list]\n",
    "ani = animation.ArtistAnimation(fig, ims, interval=1000, repeat_delay=1000, blit=True)\n",
    "\n",
    "HTML(ani.to_jshtml())"
   ]
  },
  {
   "cell_type": "markdown",
   "metadata": {
    "id": "xIOpbqF2PK9R"
   },
   "source": [
    "**Real Images vs. Fake Images**\n",
    "\n",
    "Finally, lets take a look at some real images and fake images side by\n",
    "side.\n",
    "\n",
    "\n"
   ]
  },
  {
   "cell_type": "code",
   "execution_count": null,
   "metadata": {
    "id": "G8DZliMLPK9R"
   },
   "outputs": [],
   "source": [
    "# Grab a batch of real images from the dataloader\n",
    "real_batch = next(iter(train_loader))\n",
    "\n",
    "# Plot the real images\n",
    "plt.figure(figsize=(15,15))\n",
    "plt.subplot(1,2,1)\n",
    "plt.axis(\"off\")\n",
    "plt.title(\"Real Images\")\n",
    "plt.imshow(np.transpose(vutils.make_grid(real_batch[0].to(device)[:64], padding=5, normalize=True).cpu(),(1,2,0)))\n",
    "\n",
    "# Plot the fake images from the last epoch\n",
    "plt.subplot(1,2,2)\n",
    "plt.axis(\"off\")\n",
    "plt.title(\"Fake Images\")\n",
    "plt.imshow(np.transpose(img_list[-1],(1,2,0)))\n",
    "plt.show()"
   ]
  },
  {
   "cell_type": "markdown",
   "metadata": {
    "id": "OfIX4kEwPK9R"
   },
   "source": [
    "Where to Go Next\n",
    "----------------\n",
    "\n",
    "We have reached the end of our journey, but there are several places you\n",
    "could go from here. You could:\n",
    "\n",
    "-  Train for longer to see how good the results get\n",
    "-  Modify this model to take a different dataset and possibly change the\n",
    "   size of the images and the model architecture\n",
    "-  Check out some other cool GAN projects\n",
    "   `here <https://github.com/nashory/gans-awesome-applications>`__\n",
    "-  Create GANs that generate\n",
    "   `music <https://deepmind.com/blog/wavenet-generative-model-raw-audio/>`__\n",
    "\n",
    "\n"
   ]
  },
  {
   "cell_type": "code",
   "execution_count": null,
   "metadata": {
    "id": "H5LUnQYSW0tO"
   },
   "outputs": [],
   "source": [
    "PATHG = \"GAN/G_weights.pt\"\n",
    "PATHD = \"GAN/D_weights.pt\"\n",
    "torch.save(netG.state_dict(), PATHG)\n",
    "torch.save(netD.state_dict(), PATHD)"
   ]
  }
 ],
 "metadata": {
  "colab": {
   "collapsed_sections": [],
   "name": "AI Finals GAN.ipynb",
   "provenance": [],
   "toc_visible": true
  },
  "kernelspec": {
   "display_name": "Python 3",
   "language": "python",
   "name": "python3"
  },
  "language_info": {
   "codemirror_mode": {
    "name": "ipython",
    "version": 3
   },
   "file_extension": ".py",
   "mimetype": "text/x-python",
   "name": "python",
   "nbconvert_exporter": "python",
   "pygments_lexer": "ipython3",
   "version": "3.6.8"
  }
 },
 "nbformat": 4,
 "nbformat_minor": 1
}
