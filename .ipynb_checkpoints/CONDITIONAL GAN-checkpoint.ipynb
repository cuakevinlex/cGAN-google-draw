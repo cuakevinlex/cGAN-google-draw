{
 "cells": [
  {
   "cell_type": "markdown",
   "metadata": {
    "colab_type": "text",
    "id": "Rf1B5ZFAgh6D"
   },
   "source": [
    "### **Part One: Import module**"
   ]
  },
  {
   "cell_type": "code",
   "execution_count": 1,
   "metadata": {
    "colab": {
     "base_uri": "https://localhost:8080/",
     "height": 34
    },
    "colab_type": "code",
    "executionInfo": {
     "elapsed": 4348,
     "status": "ok",
     "timestamp": 1592156796676,
     "user": {
      "displayName": "譚天",
      "photoUrl": "",
      "userId": "07847519744395924207"
     },
     "user_tz": -480
    },
    "id": "8-jZ-Or0fEWS",
    "outputId": "fb93d9b8-aa6d-4a7b-a315-45b9c736ec91"
   },
   "outputs": [
    {
     "name": "stdout",
     "output_type": "stream",
     "text": [
      "Requirement already satisfied: barbar in /home/cuakevinlex/miniconda3/lib/python3.8/site-packages (0.2.1)\r\n"
     ]
    }
   ],
   "source": [
    "from PIL import Image, ImageDraw, ImageOps\n",
    "import ast\n",
    "\n",
    "import argparse\n",
    "import os\n",
    "import numpy as np\n",
    "import math\n",
    "\n",
    "import torchvision.transforms as transforms\n",
    "import torchvision.utils\n",
    "from torchvision.utils import save_image\n",
    "\n",
    "\n",
    "from torch.utils.data import Dataset, DataLoader,TensorDataset\n",
    "from torchvision import datasets\n",
    "from torch.autograd import Variable\n",
    "\n",
    "import torch.nn as nn\n",
    "import torch.nn.functional as F\n",
    "import torch\n",
    "\n",
    "import matplotlib.pyplot as plt\n",
    "import matplotlib.animation as animation\n",
    "\n",
    "import pandas as pd\n",
    "!pip install barbar\n",
    "from barbar import Bar\n"
   ]
  },
  {
   "cell_type": "markdown",
   "metadata": {
    "colab_type": "text",
    "id": "shG5pSNFvcSu"
   },
   "source": [
    "### **Part Three: Model Setup**"
   ]
  },
  {
   "cell_type": "code",
   "execution_count": 2,
   "metadata": {
    "colab": {},
    "colab_type": "code",
    "id": "zFYn_lcvhKO1"
   },
   "outputs": [],
   "source": [
    "n_epochs = 100\n",
    "\n",
    "batch_size = 128\n",
    "\n",
    "lr = 0.0002\n",
    "\n",
    "b1 = 0.5\n",
    "\n",
    "b2 = 0.999\n",
    "\n",
    "n_cpu = 4\n",
    "\n",
    "latent_dim = 100\n",
    "\n",
    "n_classes = 30\n",
    "\n",
    "img_size = 64\n",
    "\n",
    "channels = 1\n",
    "\n",
    "sample_interval = 11\n",
    "\n",
    "\n",
    "img_shape = (channels, img_size, img_size) #(img_channel, img_size, img_size)\n",
    "ngpu = 1\n",
    "cuda = True if torch.cuda.is_available() else False"
   ]
  },
  {
   "cell_type": "markdown",
   "metadata": {
    "colab_type": "text",
    "id": "_4IjRleWvq85"
   },
   "source": [
    "Create Generator class"
   ]
  },
  {
   "cell_type": "code",
   "execution_count": 3,
   "metadata": {
    "colab": {},
    "colab_type": "code",
    "id": "Sy7lpw2-vqJY"
   },
   "outputs": [],
   "source": [
    "class Generator(nn.Module):\n",
    "    def __init__(self):\n",
    "        super(Generator, self).__init__()\n",
    "\n",
    "        self.label_emb = nn.Embedding(n_classes, n_classes)\n",
    "\n",
    "        def block(in_feat, out_feat, normalize=True):\n",
    "            layers = [nn.Linear(in_feat, out_feat)]\n",
    "            if normalize:\n",
    "                layers.append(nn.BatchNorm1d(out_feat, 0.8))\n",
    "            layers.append(nn.LeakyReLU(0.2, inplace=True))\n",
    "            return layers\n",
    "\n",
    "        self.model = nn.Sequential(\n",
    "            *block(latent_dim + n_classes, 128, normalize=False),\n",
    "            *block(128, 256),\n",
    "            *block(256, 512),\n",
    "            *block(512, 1024),\n",
    "            nn.Linear(1024, int(np.prod(img_shape))),\n",
    "            nn.Tanh()\n",
    "        )\n",
    "\n",
    "    def forward(self, noise, labels):\n",
    "        # Concatenate label embedding and image to produce input\n",
    "        gen_input = torch.cat((self.label_emb(labels), noise), -1)\n",
    "        img = self.model(gen_input)\n",
    "        img = img.view(img.size(0), *img_shape)\n",
    "        return img"
   ]
  },
  {
   "cell_type": "markdown",
   "metadata": {
    "colab_type": "text",
    "id": "b2jisxSTv2b3"
   },
   "source": [
    "Discriminator Class"
   ]
  },
  {
   "cell_type": "code",
   "execution_count": 4,
   "metadata": {
    "colab": {},
    "colab_type": "code",
    "id": "2BCInFg6v51c"
   },
   "outputs": [],
   "source": [
    "class Discriminator(nn.Module):\n",
    "    def __init__(self):\n",
    "        super(Discriminator, self).__init__()\n",
    "\n",
    "        self.label_embedding = nn.Embedding(n_classes, n_classes)\n",
    "\n",
    "        self.model = nn.Sequential(\n",
    "            nn.Linear(n_classes + int(np.prod(img_shape)), 512),\n",
    "            nn.LeakyReLU(0.2, inplace=True),\n",
    "            nn.Linear(512, 512),\n",
    "            nn.Dropout(0.4),\n",
    "            nn.LeakyReLU(0.2, inplace=True),\n",
    "            nn.Linear(512, 512),\n",
    "            nn.Dropout(0.4),\n",
    "            nn.LeakyReLU(0.2, inplace=True),\n",
    "            nn.Linear(512, 1),\n",
    "        )\n",
    "\n",
    "    def forward(self, img, labels):\n",
    "        # Concatenate label embedding and image to produce input\n",
    "        d_in = torch.cat((img.view(img.size(0), -1), self.label_embedding(labels)), -1)\n",
    "        validity = self.model(d_in)\n",
    "        return validity\n"
   ]
  },
  {
   "cell_type": "code",
   "execution_count": 5,
   "metadata": {
    "colab": {},
    "colab_type": "code",
    "id": "YJmzj3JuwILl"
   },
   "outputs": [],
   "source": [
    "# Loss functions\n",
    "adversarial_loss = torch.nn.BCELoss()"
   ]
  },
  {
   "cell_type": "code",
   "execution_count": 6,
   "metadata": {
    "colab": {},
    "colab_type": "code",
    "id": "wY8beCNzwLZE"
   },
   "outputs": [],
   "source": [
    "# Initialize generator and discriminator\n",
    "generator = Generator()\n",
    "discriminator = Discriminator()"
   ]
  },
  {
   "cell_type": "code",
   "execution_count": 7,
   "metadata": {
    "colab": {},
    "colab_type": "code",
    "id": "lQy_2jgnwQnH"
   },
   "outputs": [],
   "source": [
    "if cuda:\n",
    "    os.environ['CUDA_LAUNCH_BLOCKING'] = '1'\n",
    "    device = torch.device(\"cuda:0\")\n",
    "    generator.to(device=device)\n",
    "    discriminator.to(device=device)\n",
    "    adversarial_loss.to(device=device)"
   ]
  },
  {
   "cell_type": "markdown",
   "metadata": {
    "colab_type": "text",
    "id": "cn9tewWRwYre"
   },
   "source": [
    "### **Initialize QuickDraw Dataset**"
   ]
  },
  {
   "cell_type": "code",
   "execution_count": 8,
   "metadata": {
    "colab": {},
    "colab_type": "code",
    "id": "SCroTNYXwUnZ"
   },
   "outputs": [],
   "source": [
    "# define 30 classes to load the data for\n",
    "# categories = ['airplane']\n",
    "# label_dict = {0:'airplane'}\n",
    "categories = ['airplane','bee', 'bicycle', 'bird', 'butterfly','cake','camera','cat',\n",
    "              'chair','clock','computer', 'diamond', 'door', 'ear', 'guitar', \n",
    "              'hamburger','hammer','hand','hat','ladder','leaf','lion','pencil',\n",
    "              'rabbit','scissors','shoe','star','sword','The_Eiffel_Tower','tree']\n",
    "label_dict = {0:'airplane',1:'bee', 2:'bicycle', 3:'bird', 4:'butterfly',5:'cake',6:'camera',7:'cat',\n",
    "              8:'chair',9:'clock',10:'computer', 11:'diamond', 12:'door', 13:'ear', 14:'guitar', \n",
    "              15:'hamburger',16:'hammer',17:'hand',18:'hat',19:'ladder',20:'leaf',21:'lion',22:'pencil',\n",
    "              23:'rabbit',24:'scissors',25:'shoe',26:'star',27:'sword',28:'The_Eiffel_Tower',29:'tree'}\n",
    "inverse_label =  {v: k for k, v in label_dict.items()}\n",
    "# load data for each category\n",
    "classes = {}\n",
    "for category in categories:\n",
    "    data = pd.read_csv(\"input/\" + category + \".csv\")\n",
    "    classes[category] = data"
   ]
  },
  {
   "cell_type": "code",
   "execution_count": 9,
   "metadata": {},
   "outputs": [],
   "source": [
    "def convert_to_np_raw(drawing, width = 32, height = 32):\n",
    "    \"\"\"\n",
    "    INPUT:\n",
    "        drawing - drawing in initial format\n",
    "        width - width of the initial image\n",
    "        height - height of the initial image\n",
    "    OUTPUT:\n",
    "        img - drawing converted to the numpy array (width X height)\n",
    "    \"\"\"\n",
    "    # initialize empty numpy array\n",
    "    img = np.zeros((width, height))\n",
    "\n",
    "    # create a PIL image out of drawing\n",
    "    pil_img = convert_to_PIL(drawing)\n",
    "\n",
    "    #resize to 28,28\n",
    "    pil_img.thumbnail((width, height), Image.ANTIALIAS)\n",
    "\n",
    "    pil_img = pil_img.convert('RGB')\n",
    "    pixels = pil_img.load()\n",
    "\n",
    "    # fill in numpy array with pixel values\n",
    "    for i in range(0, width):\n",
    "        for j in range(0, height):\n",
    "            img[i, j] = 1 - pixels[j, i][0] / 255\n",
    "\n",
    "    return img\n",
    "def convert_to_PIL(drawing, width = 256, height = 256):\n",
    "    \"\"\"\n",
    "    Function to convert from drawing to PIL image.\n",
    "    INPUT:\n",
    "        drawing - drawing from 'drawing' column\n",
    "        width - width of the initial image\n",
    "        height - height of the initial image\n",
    "    OUTPUT:\n",
    "        pil_img - (PIL Image) image\n",
    "    \"\"\"\n",
    "\n",
    "    # initialize empty (white) PIL image\n",
    "    pil_img = Image.new('RGB', (width, height), 'white')\n",
    "    pixels = pil_img.load()\n",
    "\n",
    "    draw = ImageDraw.Draw(pil_img)\n",
    "\n",
    "    # draw strokes as lines\n",
    "    for x,y in drawing:\n",
    "        for i in range(1, len(x)):\n",
    "            draw.line((x[i-1], y[i-1], x[i], y[i]), fill=0)\n",
    "\n",
    "    return pil_img\n",
    "    \n",
    "def view_images_grid(X_train, y_train, label, label_name):\n",
    "    \"\"\"\n",
    "    Function to plot grid with several examples of images with\n",
    "    passed label.\n",
    "    INPUT:\n",
    "        X_train - (numpy array) training dataset\n",
    "        y_train - (numpy array) labels for training dataset\n",
    "        label - (int) label for images\n",
    "        label_name - (str) name for images label\n",
    "    OUTPUT: None\n",
    "    \"\"\"\n",
    "    indices = np.where(y_train == label)\n",
    "    X = pd.DataFrame(X_train)\n",
    "\n",
    "    for label_num in range(0,50):\n",
    "        plt.subplot(5,10, label_num+1) #create subplots\n",
    "        image = X.iloc[indices[0][label_num]].as_matrix().reshape(28,28)  #reshape images\n",
    "        plt.imshow(image) #plot the data\n",
    "        plt.xticks([]) #removes numbered labels on x-axis\n",
    "        plt.yticks([]) #removes numbered labels on y-axis\n",
    "        plt.suptitle(label_name)\n",
    "\n",
    "        plt.savefig(label_name + '_grid.png')"
   ]
  },
  {
   "cell_type": "code",
   "execution_count": 10,
   "metadata": {},
   "outputs": [],
   "source": [
    "# create the dictionary containing classes names as keys and images as values\n",
    "values_dict = {}\n",
    "ground_truth = {}\n",
    "for category in categories:\n",
    "    data = classes[category][:500]\n",
    "    # values = [convert_to_np_raw(ast.literal_eval(img)).reshape(1, 784) for img in data['drawing'].values]\n",
    "    # values = [ ast.literal_eval(img) for img in data['drawing'].values ]\n",
    "    # values = [convert_to_np_raw(ast.literal_eval(img)) for img in data['drawing'].values]\n",
    "    values = []\n",
    "    y = []\n",
    "    for img in data['drawing'].values:\n",
    "      values.append(convert_to_np_raw(ast.literal_eval(img)))\n",
    "      y.append(inverse_label[category])\n",
    "    values_dict[category] = torch.tensor(values)\n",
    "    ground_truth[category] = torch.tensor(y)"
   ]
  },
  {
   "cell_type": "code",
   "execution_count": 11,
   "metadata": {},
   "outputs": [
    {
     "data": {
      "image/png": "[encoded data removed]",
      "text/plain": [
       "<Figure size 1440x720 with 9 Axes>"
      ]
     },
     "metadata": {},
     "output_type": "display_data"
    }
   ],
   "source": [
    "correct_figure = plt.figure()\n",
    "correct_figure.set_size_inches(20, 10)\n",
    "\n",
    "image_transform =   transform=transforms.Compose([\n",
    "    transforms.ToPILImage(),\n",
    "    transforms.Resize(64),\n",
    "    transforms.ToTensor()\n",
    "])\n",
    "\n",
    "for i in range(9):\n",
    "  plt.subplot(3,3,i+1)\n",
    "  plt.tight_layout()\n",
    "  npimg = values_dict['airplane'][i].numpy()\n",
    "  npimg = image_transform(torch.Tensor(npimg)).numpy().squeeze(0)\n",
    "  npimg = (npimg - np.min(npimg))/np.ptp(npimg)\n",
    "  plt.imshow(npimg)\n",
    "  # plt.imshow(np.transpose(npimg, (1, 2, 0)))\n",
    "  # plt.title(\"Predicted: {}, GT: {}\".format(classes[predicted[correct_label[i]]], classes[y_label[correct_label[i]]]))\n",
    "  plt.xticks([])\n",
    "  plt.yticks([])"
   ]
  },
  {
   "cell_type": "code",
   "execution_count": 12,
   "metadata": {},
   "outputs": [],
   "source": [
    "class CustomTensorDataset(Dataset):\n",
    "    \"\"\"TensorDataset with support of transforms.\n",
    "    \"\"\"\n",
    "    def __init__(self, tensors, transform=None):\n",
    "        assert all(tensors[0].size(0) == tensor.size(0) for tensor in tensors)\n",
    "        self.tensors = tensors\n",
    "        self.transform = transform\n",
    "\n",
    "    def __getitem__(self, index):\n",
    "        x = self.tensors[0][index]\n",
    "\n",
    "        if self.transform:\n",
    "            x = self.transform(x)\n",
    "\n",
    "        y = self.tensors[1][index]\n",
    "\n",
    "        return x, y\n",
    "\n",
    "    def __len__(self):\n",
    "        return self.tensors[0].size(0)"
   ]
  },
  {
   "cell_type": "code",
   "execution_count": 13,
   "metadata": {},
   "outputs": [],
   "source": [
    "feature_tensor = torch.empty(0)\n",
    "target_tensor = torch.empty(0)\n",
    "\n",
    "for category in categories:\n",
    "    feature_tensor = torch.cat((feature_tensor, values_dict[category] ),0)\n",
    "    target_tensor = torch.cat((target_tensor, ground_truth[category]),0)\n",
    "data_set = CustomTensorDataset(tensors=(feature_tensor, target_tensor), transform=image_transform)\n",
    "# data_set = torch.utils.data.TensorDataset(feature_tensor, target_tensor.long(),image_transform)\n"
   ]
  },
  {
   "cell_type": "code",
   "execution_count": 14,
   "metadata": {},
   "outputs": [],
   "source": [
    "train_set = data_set\n",
    "train_loader = torch.utils.data.DataLoader(train_set, batch_size=batch_size, shuffle=True)"
   ]
  },
  {
   "cell_type": "markdown",
   "metadata": {
    "colab_type": "text",
    "id": "BMRB4c37wp3W"
   },
   "source": [
    "Setup Optimizer"
   ]
  },
  {
   "cell_type": "code",
   "execution_count": 15,
   "metadata": {
    "colab": {},
    "colab_type": "code",
    "id": "UJq_zVUXwpcQ"
   },
   "outputs": [],
   "source": [
    "# Optimizers\n",
    "optimizer_G = torch.optim.Adam(generator.parameters(), lr=lr, betas=(b1, b2))\n",
    "optimizer_D = torch.optim.Adam(discriminator.parameters(), lr=lr, betas=(b1, b2))\n",
    "\n",
    "FloatTensor = torch.cuda.FloatTensor if cuda else torch.FloatTensor\n",
    "LongTensor = torch.cuda.LongTensor if cuda else torch.LongTensor\n",
    "\n",
    "\n",
    "def sample_image(n_row, batches_done):\n",
    "    \"\"\"Saves a grid of generated digits ranging from 0 to n_classes\"\"\"\n",
    "    # Sample noise\n",
    "    z = Variable(FloatTensor(np.random.normal(0, 1, (n_row ** 2, latent_dim))))\n",
    "    # Get labels ranging from 0 to n_classes for n rows\n",
    "    labels = np.array([num for _ in range(n_row) for num in range(n_row)])\n",
    "    labels = Variable(LongTensor(labels))\n",
    "    gen_imgs = generator(z, labels)\n",
    "    save_image(gen_imgs.data, \"GAN_64x64_128batch/%d.png\" % batches_done, nrow=n_row, normalize=True)"
   ]
  },
  {
   "cell_type": "markdown",
   "metadata": {
    "colab_type": "text",
    "id": "5Q7Ezk1lw0v7"
   },
   "source": [
    "### **Model Training**"
   ]
  },
  {
   "cell_type": "code",
   "execution_count": 16,
   "metadata": {
    "colab": {
     "base_uri": "https://localhost:8080/",
     "height": 1000
    },
    "colab_type": "code",
    "executionInfo": {
     "elapsed": 10022667,
     "status": "ok",
     "timestamp": 1592168235439,
     "user": {
      "displayName": "譚天",
      "photoUrl": "",
      "userId": "07847519744395924207"
     },
     "user_tz": -480
    },
    "id": "OY4AsJD_w6Cq",
    "outputId": "8e579d23-235f-45e5-92ea-7040462b65cf"
   },
   "outputs": [
    {
     "ename": "RuntimeError",
     "evalue": "CUDA error: device-side assert triggered",
     "output_type": "error",
     "traceback": [
      "\u001b[0;31m---------------------------------------------------------------------------\u001b[0m",
      "\u001b[0;31mRuntimeError\u001b[0m                              Traceback (most recent call last)",
      "\u001b[0;32m<ipython-input-16-c46654103ef3>\u001b[0m in \u001b[0;36m<module>\u001b[0;34m\u001b[0m\n\u001b[1;32m     33\u001b[0m         \u001b[0;31m# Loss measures generator's ability to fool the discriminator\u001b[0m\u001b[0;34m\u001b[0m\u001b[0;34m\u001b[0m\u001b[0;34m\u001b[0m\u001b[0m\n\u001b[1;32m     34\u001b[0m         \u001b[0mvalidity\u001b[0m \u001b[0;34m=\u001b[0m \u001b[0mdiscriminator\u001b[0m\u001b[0;34m(\u001b[0m\u001b[0mgen_imgs\u001b[0m\u001b[0;34m,\u001b[0m \u001b[0mgen_labels\u001b[0m\u001b[0;34m)\u001b[0m\u001b[0;34m\u001b[0m\u001b[0;34m\u001b[0m\u001b[0m\n\u001b[0;32m---> 35\u001b[0;31m         \u001b[0mg_loss\u001b[0m \u001b[0;34m=\u001b[0m \u001b[0madversarial_loss\u001b[0m\u001b[0;34m(\u001b[0m\u001b[0mvalidity\u001b[0m\u001b[0;34m,\u001b[0m \u001b[0mvalid\u001b[0m\u001b[0;34m)\u001b[0m\u001b[0;34m\u001b[0m\u001b[0;34m\u001b[0m\u001b[0m\n\u001b[0m\u001b[1;32m     36\u001b[0m \u001b[0;34m\u001b[0m\u001b[0m\n\u001b[1;32m     37\u001b[0m \u001b[0;34m\u001b[0m\u001b[0m\n",
      "\u001b[0;32m~/miniconda3/lib/python3.8/site-packages/torch/nn/modules/module.py\u001b[0m in \u001b[0;36m_call_impl\u001b[0;34m(self, *input, **kwargs)\u001b[0m\n\u001b[1;32m    725\u001b[0m             \u001b[0mresult\u001b[0m \u001b[0;34m=\u001b[0m \u001b[0mself\u001b[0m\u001b[0;34m.\u001b[0m\u001b[0m_slow_forward\u001b[0m\u001b[0;34m(\u001b[0m\u001b[0;34m*\u001b[0m\u001b[0minput\u001b[0m\u001b[0;34m,\u001b[0m \u001b[0;34m**\u001b[0m\u001b[0mkwargs\u001b[0m\u001b[0;34m)\u001b[0m\u001b[0;34m\u001b[0m\u001b[0;34m\u001b[0m\u001b[0m\n\u001b[1;32m    726\u001b[0m         \u001b[0;32melse\u001b[0m\u001b[0;34m:\u001b[0m\u001b[0;34m\u001b[0m\u001b[0;34m\u001b[0m\u001b[0m\n\u001b[0;32m--> 727\u001b[0;31m             \u001b[0mresult\u001b[0m \u001b[0;34m=\u001b[0m \u001b[0mself\u001b[0m\u001b[0;34m.\u001b[0m\u001b[0mforward\u001b[0m\u001b[0;34m(\u001b[0m\u001b[0;34m*\u001b[0m\u001b[0minput\u001b[0m\u001b[0;34m,\u001b[0m \u001b[0;34m**\u001b[0m\u001b[0mkwargs\u001b[0m\u001b[0;34m)\u001b[0m\u001b[0;34m\u001b[0m\u001b[0;34m\u001b[0m\u001b[0m\n\u001b[0m\u001b[1;32m    728\u001b[0m         for hook in itertools.chain(\n\u001b[1;32m    729\u001b[0m                 \u001b[0m_global_forward_hooks\u001b[0m\u001b[0;34m.\u001b[0m\u001b[0mvalues\u001b[0m\u001b[0;34m(\u001b[0m\u001b[0;34m)\u001b[0m\u001b[0;34m,\u001b[0m\u001b[0;34m\u001b[0m\u001b[0;34m\u001b[0m\u001b[0m\n",
      "\u001b[0;32m~/miniconda3/lib/python3.8/site-packages/torch/nn/modules/loss.py\u001b[0m in \u001b[0;36mforward\u001b[0;34m(self, input, target)\u001b[0m\n\u001b[1;32m    528\u001b[0m \u001b[0;34m\u001b[0m\u001b[0m\n\u001b[1;32m    529\u001b[0m     \u001b[0;32mdef\u001b[0m \u001b[0mforward\u001b[0m\u001b[0;34m(\u001b[0m\u001b[0mself\u001b[0m\u001b[0;34m,\u001b[0m \u001b[0minput\u001b[0m\u001b[0;34m:\u001b[0m \u001b[0mTensor\u001b[0m\u001b[0;34m,\u001b[0m \u001b[0mtarget\u001b[0m\u001b[0;34m:\u001b[0m \u001b[0mTensor\u001b[0m\u001b[0;34m)\u001b[0m \u001b[0;34m->\u001b[0m \u001b[0mTensor\u001b[0m\u001b[0;34m:\u001b[0m\u001b[0;34m\u001b[0m\u001b[0;34m\u001b[0m\u001b[0m\n\u001b[0;32m--> 530\u001b[0;31m         \u001b[0;32mreturn\u001b[0m \u001b[0mF\u001b[0m\u001b[0;34m.\u001b[0m\u001b[0mbinary_cross_entropy\u001b[0m\u001b[0;34m(\u001b[0m\u001b[0minput\u001b[0m\u001b[0;34m,\u001b[0m \u001b[0mtarget\u001b[0m\u001b[0;34m,\u001b[0m \u001b[0mweight\u001b[0m\u001b[0;34m=\u001b[0m\u001b[0mself\u001b[0m\u001b[0;34m.\u001b[0m\u001b[0mweight\u001b[0m\u001b[0;34m,\u001b[0m \u001b[0mreduction\u001b[0m\u001b[0;34m=\u001b[0m\u001b[0mself\u001b[0m\u001b[0;34m.\u001b[0m\u001b[0mreduction\u001b[0m\u001b[0;34m)\u001b[0m\u001b[0;34m\u001b[0m\u001b[0;34m\u001b[0m\u001b[0m\n\u001b[0m\u001b[1;32m    531\u001b[0m \u001b[0;34m\u001b[0m\u001b[0m\n\u001b[1;32m    532\u001b[0m \u001b[0;34m\u001b[0m\u001b[0m\n",
      "\u001b[0;32m~/miniconda3/lib/python3.8/site-packages/torch/nn/functional.py\u001b[0m in \u001b[0;36mbinary_cross_entropy\u001b[0;34m(input, target, weight, size_average, reduce, reduction)\u001b[0m\n\u001b[1;32m   2523\u001b[0m         \u001b[0mweight\u001b[0m \u001b[0;34m=\u001b[0m \u001b[0mweight\u001b[0m\u001b[0;34m.\u001b[0m\u001b[0mexpand\u001b[0m\u001b[0;34m(\u001b[0m\u001b[0mnew_size\u001b[0m\u001b[0;34m)\u001b[0m\u001b[0;34m\u001b[0m\u001b[0;34m\u001b[0m\u001b[0m\n\u001b[1;32m   2524\u001b[0m \u001b[0;34m\u001b[0m\u001b[0m\n\u001b[0;32m-> 2525\u001b[0;31m     return torch._C._nn.binary_cross_entropy(\n\u001b[0m\u001b[1;32m   2526\u001b[0m         input, target, weight, reduction_enum)\n\u001b[1;32m   2527\u001b[0m \u001b[0;34m\u001b[0m\u001b[0m\n",
      "\u001b[0;31mRuntimeError\u001b[0m: CUDA error: device-side assert triggered"
     ]
    }
   ],
   "source": [
    "# ----------\n",
    "#  Training\n",
    "# ----------\n",
    "g_loss_log = [] \n",
    "d_loss_log = []\n",
    "for epoch in range(n_epochs):\n",
    "    \n",
    "    for i, (imgs, labels) in enumerate(train_loader):\n",
    "\n",
    "        batch_size = imgs.shape[0]\n",
    "\n",
    "        # Adversarial ground truths\n",
    "        valid = Variable(FloatTensor(batch_size, 1).fill_(1.0), requires_grad=False).to(device=device)\n",
    "        fake = Variable(FloatTensor(batch_size, 1).fill_(0.0), requires_grad=False).to(device=device)\n",
    "\n",
    "        # Configure input\n",
    "        real_imgs = Variable(imgs.type(FloatTensor)).to(device=device)\n",
    "        labels = Variable(labels.type(LongTensor)).to(device=device)\n",
    "\n",
    "        # -----------------\n",
    "        #  Train Generator\n",
    "        # -----------------\n",
    "\n",
    "        optimizer_G.zero_grad()\n",
    "\n",
    "        # Sample noise and labels as generator input\n",
    "        z = Variable(FloatTensor(np.random.normal(0, 1, (batch_size, latent_dim))))\n",
    "        gen_labels = Variable(LongTensor(np.random.randint(0, n_classes, batch_size)))\n",
    "\n",
    "        # Generate a batch of images\n",
    "        gen_imgs = generator(z, gen_labels)\n",
    "\n",
    "        # Loss measures generator's ability to fool the discriminator\n",
    "        validity = discriminator(gen_imgs, gen_labels)\n",
    "        g_loss = adversarial_loss(validity, valid)\n",
    "\n",
    "       \n",
    "        g_loss.backward()\n",
    "        optimizer_G.step()\n",
    "\n",
    "        # ---------------------\n",
    "        #  Train Discriminator\n",
    "        # ---------------------\n",
    "\n",
    "        optimizer_D.zero_grad()\n",
    "\n",
    "        # Loss for real images\n",
    "        validity_real = discriminator(real_imgs, labels)\n",
    "        d_real_loss = adversarial_loss(validity_real, valid)\n",
    "\n",
    "        # Loss for fake images\n",
    "        validity_fake = discriminator(gen_imgs.detach(), gen_labels)\n",
    "        d_fake_loss = adversarial_loss(validity_fake, fake)\n",
    "\n",
    "        # Total discriminator loss\n",
    "        d_loss = (d_real_loss + d_fake_loss) / 2\n",
    "        \n",
    "        d_loss.backward()\n",
    "        optimizer_D.step()\n",
    "\n",
    "        print(\n",
    "            \"[Epoch %d/%d] [Batch %d/%d] [D loss: %f] [G loss: %f]\"\n",
    "            % (epoch, n_epochs, i, len(dataloaders['train']), d_loss.item(), g_loss.item())\n",
    "        )\n",
    "        d_loss_log.append(d_loss.item())\n",
    "        g_loss_log.append(g_loss.item())\n",
    "        batches_done = epoch * len(dataloaders['train']) + i\n",
    "        if batches_done % sample_interval == 0:\n",
    "            sample_image(n_row=10, batches_done=batches_done)\n",
    "            \n"
   ]
  },
  {
   "cell_type": "code",
   "execution_count": null,
   "metadata": {
    "colab": {
     "base_uri": "https://localhost:8080/",
     "height": 350
    },
    "colab_type": "code",
    "executionInfo": {
     "elapsed": 1755,
     "status": "ok",
     "timestamp": 1592168707937,
     "user": {
      "displayName": "譚天",
      "photoUrl": "",
      "userId": "07847519744395924207"
     },
     "user_tz": -480
    },
    "id": "tfxQJ0uOAN-E",
    "outputId": "61d1dd6f-a3a1-40e3-e6e7-e73bced740de"
   },
   "outputs": [],
   "source": [
    "\n",
    "plt.figure(figsize=(10,5))\n",
    "plt.title(\"Generator and Discriminator Loss During Training\")\n",
    "plt.plot(g_loss_log,label=\"G\")\n",
    "plt.plot(d_loss_log,label=\"D\")\n",
    "plt.xlabel(\"iterations\")\n",
    "plt.ylabel(\"Loss\")\n",
    "plt.legend()\n",
    "plt.show()\n"
   ]
  },
  {
   "cell_type": "code",
   "execution_count": null,
   "metadata": {
    "colab": {},
    "colab_type": "code",
    "id": "s091rieCcx-n"
   },
   "outputs": [],
   "source": [
    "#Save checkpoints\n",
    "\n",
    "torch.save({\n",
    "    'optimizer_G': optimizer_G.state_dict(),\n",
    "    'optimizer_D': optimizer_D.state_dict(),\n",
    "    'generator': generator.state_dict(),\n",
    "    'discriminator': discriminator.state_dict(),\n",
    "    'epoch': 100,\n",
    "    'losses_G': g_loss,\n",
    "    'losses_D': d_loss\n",
    "}, \"GAN_imgsize_64-100_epochs.pt\")"
   ]
  },
  {
   "cell_type": "code",
   "execution_count": null,
   "metadata": {
    "colab": {},
    "colab_type": "code",
    "id": "FFcSvnHE6pBy"
   },
   "outputs": [],
   "source": []
  }
 ],
 "metadata": {
  "accelerator": "GPU",
  "colab": {
   "authorship_tag": "ABX9TyNHI2DtznN//lnOSadQRjn5",
   "collapsed_sections": [],
   "mount_file_id": "1ZKuQXyt-cAIQA0jdtwdMCimJ2BfWwoJL",
   "name": "ConditionalGAN_pytorch.ipynb",
   "provenance": [],
   "toc_visible": true
  },
  "kernelspec": {
   "display_name": "Python 3",
   "language": "python",
   "name": "python3"
  },
  "language_info": {
   "codemirror_mode": {
    "name": "ipython",
    "version": 3
   },
   "file_extension": ".py",
   "mimetype": "text/x-python",
   "name": "python",
   "nbconvert_exporter": "python",
   "pygments_lexer": "ipython3",
   "version": "3.8.5"
  }
 },
 "nbformat": 4,
 "nbformat_minor": 1
}
